{
  "nbformat": 4,
  "nbformat_minor": 0,
  "metadata": {
    "colab": {
      "name": "Image - Basics.ipynb",
      "provenance": [],
      "authorship_tag": "ABX9TyP8qsm0L/oHqNjQghPMHHdS",
      "include_colab_link": true
    },
    "kernelspec": {
      "name": "python3",
      "display_name": "Python 3"
    },
    "language_info": {
      "name": "python"
    },
    "accelerator": "GPU"
  },
  "cells": [
    {
      "cell_type": "markdown",
      "metadata": {
        "id": "view-in-github",
        "colab_type": "text"
      },
      "source": [
        "<a href=\"https://colab.research.google.com/github/diazameer/Image-Classification/blob/main/Image_Basics-CNN.ipynb\" target=\"_parent\"><img src=\"https://colab.research.google.com/assets/colab-badge.svg\" alt=\"Open In Colab\"/></a>"
      ]
    },
    {
      "cell_type": "code",
      "metadata": {
        "id": "GOgm4SFLO6vV"
      },
      "source": [
        "# Image : Data which contains Pixels\n",
        "# Pixel : Smallest addressable unit - [Width,Height]\n",
        "# Types of Images\n",
        "# 1. Grayscale Image - Width*Height - 2\n",
        "# 2. Color image - Width*Height*Depth - 3\n",
        "\n",
        "# Depth - RGB [Red,Green and Blue]"
      ],
      "execution_count": 1,
      "outputs": []
    },
    {
      "cell_type": "code",
      "metadata": {
        "colab": {
          "base_uri": "https://localhost:8080/",
          "height": 160
        },
        "id": "HRyYKb4JQ2ch",
        "outputId": "268e4db1-05ee-47e2-9386-8d6defc72a31"
      },
      "source": [
        "import numpy as np\n",
        "import matplotlib.pyplot as plt\n",
        "img = np.array([[1,4,7]])\n",
        "plt.imshow(img,cmap='gray')\n",
        "plt.show()"
      ],
      "execution_count": 2,
      "outputs": [
        {
          "output_type": "display_data",
          "data": {
            "image/png": "[encoded data removed]",
            "text/plain": [
              "<Figure size 432x288 with 1 Axes>"
            ]
          },
          "metadata": {
            "tags": [],
            "needs_background": "light"
          }
        }
      ]
    },
    {
      "cell_type": "code",
      "metadata": {
        "colab": {
          "base_uri": "https://localhost:8080/",
          "height": 269
        },
        "id": "VnK3sly6RLSt",
        "outputId": "b0f96c8b-3af7-408d-e653-87b5a797c91c"
      },
      "source": [
        "img = np.array([[10,42,27],\n",
        "                [23,14,7]])\n",
        "plt.imshow(img,cmap='gray')\n",
        "plt.show()"
      ],
      "execution_count": 3,
      "outputs": [
        {
          "output_type": "display_data",
          "data": {
            "image/png": "[encoded data removed]",
            "text/plain": [
              "<Figure size 432x288 with 1 Axes>"
            ]
          },
          "metadata": {
            "tags": [],
            "needs_background": "light"
          }
        }
      ]
    },
    {
      "cell_type": "code",
      "metadata": {
        "colab": {
          "base_uri": "https://localhost:8080/",
          "height": 265
        },
        "id": "ntJyZ4uORfZF",
        "outputId": "17e064d8-eb32-4537-fe5d-c4ed4f4a6784"
      },
      "source": [
        "img = np.array([[ 0.,  1.,  8., 12., 15., 14.,  4.,  0.],\n",
        "                [ 0.,  3., 11.,  8.,  8., 12., 12.,  0.],\n",
        "                [ 0.,  0.,  0.,  0.,  2., 13.,  7.,  0.],\n",
        "                [ 0.,  0.,  0.,  2., 15., 12.,  1.,  0.],\n",
        "                [ 0.,  0.,  0.,  0., 13.,  5.,  0.,  0.],\n",
        "                [ 0.,  0.,  0.,  0.,  9., 13.,  0.,  0.],\n",
        "                [ 0.,  0.,  7.,  8., 14., 15.,  0.,  0.],\n",
        "                [ 0.,  0., 14., 15., 11.,  2.,  0.,  0.]])\n",
        "plt.imshow(img,cmap='gray')\n",
        "plt.show()"
      ],
      "execution_count": 4,
      "outputs": [
        {
          "output_type": "display_data",
          "data": {
            "image/png": "[encoded data removed]",
            "text/plain": [
              "<Figure size 432x288 with 1 Axes>"
            ]
          },
          "metadata": {
            "tags": [],
            "needs_background": "light"
          }
        }
      ]
    },
    {
      "cell_type": "code",
      "metadata": {
        "colab": {
          "base_uri": "https://localhost:8080/",
          "height": 35
        },
        "id": "9Wb_EaJLSY0t",
        "outputId": "319d76be-1a46-4eb7-b47f-c7fa0bbeca5e"
      },
      "source": [
        "from google.colab.patches import cv2_imshow\n",
        "cv2_imshow(img)"
      ],
      "execution_count": 5,
      "outputs": [
        {
          "output_type": "display_data",
          "data": {
            "image/png": "[encoded data removed]",
            "text/plain": [
              "<PIL.Image.Image image mode=L size=8x8 at 0x7F1266FCE610>"
            ]
          },
          "metadata": {
            "tags": []
          }
        }
      ]
    },
    {
      "cell_type": "code",
      "metadata": {
        "colab": {
          "base_uri": "https://localhost:8080/"
        },
        "id": "En1y26MMSnA-",
        "outputId": "8e8c20d4-60c3-48ba-d28e-324118a01239"
      },
      "source": [
        "img.ndim"
      ],
      "execution_count": 6,
      "outputs": [
        {
          "output_type": "execute_result",
          "data": {
            "text/plain": [
              "2"
            ]
          },
          "metadata": {
            "tags": []
          },
          "execution_count": 6
        }
      ]
    },
    {
      "cell_type": "code",
      "metadata": {
        "colab": {
          "base_uri": "https://localhost:8080/"
        },
        "id": "DWtho5ZsS10N",
        "outputId": "d4479d50-a525-48dd-e316-ef0802617b87"
      },
      "source": [
        "img.shape"
      ],
      "execution_count": 7,
      "outputs": [
        {
          "output_type": "execute_result",
          "data": {
            "text/plain": [
              "(8, 8)"
            ]
          },
          "metadata": {
            "tags": []
          },
          "execution_count": 7
        }
      ]
    },
    {
      "cell_type": "code",
      "metadata": {
        "colab": {
          "base_uri": "https://localhost:8080/"
        },
        "id": "noJv-IR4S4t1",
        "outputId": "e7a4de49-0833-488e-cffa-ecb6ed4a2b4f"
      },
      "source": [
        "!wget https://www.extremetech.com/wp-content/uploads/2019/12/SONATA-hero-option1-764A5360-edit.jpg -O car.jpg"
      ],
      "execution_count": 8,
      "outputs": [
        {
          "output_type": "stream",
          "text": [
            "--2021-04-23 06:51:05--  https://www.extremetech.com/wp-content/uploads/2019/12/SONATA-hero-option1-764A5360-edit.jpg\n",
            "Resolving www.extremetech.com (www.extremetech.com)... 23.67.57.35, 23.67.57.120\n",
            "Connecting to www.extremetech.com (www.extremetech.com)|23.67.57.35|:443... connected.\n",
            "HTTP request sent, awaiting response... 200 OK\n",
            "Length: 784940 (767K) [image/jpeg]\n",
            "Saving to: ‘car.jpg’\n",
            "\n",
            "car.jpg             100%[===================>] 766.54K  --.-KB/s    in 0.07s   \n",
            "\n",
            "2021-04-23 06:51:05 (10.8 MB/s) - ‘car.jpg’ saved [784940/784940]\n",
            "\n"
          ],
          "name": "stdout"
        }
      ]
    },
    {
      "cell_type": "code",
      "metadata": {
        "colab": {
          "base_uri": "https://localhost:8080/",
          "height": 237
        },
        "id": "s6dSi4NkTLBP",
        "outputId": "40dee704-41f0-4ff8-c2fe-eb3a4e8afd43"
      },
      "source": [
        "clr_img = plt.imread('car.jpg')\n",
        "plt.imshow(clr_img)\n",
        "plt.show()"
      ],
      "execution_count": 9,
      "outputs": [
        {
          "output_type": "display_data",
          "data": {
            "image/png": "[encoded data removed]",
            "text/plain": [
              "<Figure size 432x288 with 1 Axes>"
            ]
          },
          "metadata": {
            "tags": [],
            "needs_background": "light"
          }
        }
      ]
    },
    {
      "cell_type": "code",
      "metadata": {
        "colab": {
          "base_uri": "https://localhost:8080/"
        },
        "id": "KqgUM10mUObi",
        "outputId": "08b3a91c-aac0-435a-dd37-75f4541fd387"
      },
      "source": [
        "clr_img"
      ],
      "execution_count": 10,
      "outputs": [
        {
          "output_type": "execute_result",
          "data": {
            "text/plain": [
              "array([[[223, 213, 204],\n",
              "        [226, 216, 207],\n",
              "        [227, 214, 206],\n",
              "        ...,\n",
              "        [228, 215, 207],\n",
              "        [236, 223, 215],\n",
              "        [229, 216, 208]],\n",
              "\n",
              "       [[228, 218, 209],\n",
              "        [229, 219, 210],\n",
              "        [228, 215, 207],\n",
              "        ...,\n",
              "        [229, 216, 208],\n",
              "        [222, 209, 201],\n",
              "        [218, 205, 197]],\n",
              "\n",
              "       [[224, 214, 205],\n",
              "        [221, 211, 202],\n",
              "        [222, 209, 201],\n",
              "        ...,\n",
              "        [224, 211, 203],\n",
              "        [222, 209, 201],\n",
              "        [225, 212, 204]],\n",
              "\n",
              "       ...,\n",
              "\n",
              "       [[ 52,  68,  91],\n",
              "        [ 37,  54,  74],\n",
              "        [ 42,  59,  75],\n",
              "        ...,\n",
              "        [ 91,  98, 127],\n",
              "        [ 94, 104, 131],\n",
              "        [ 68,  80, 106]],\n",
              "\n",
              "       [[ 56,  73,  91],\n",
              "        [ 42,  59,  79],\n",
              "        [ 53,  69,  92],\n",
              "        ...,\n",
              "        [ 73,  83, 110],\n",
              "        [ 97, 107, 132],\n",
              "        [ 79,  91, 115]],\n",
              "\n",
              "       [[ 75,  91, 114],\n",
              "        [ 63,  79, 104],\n",
              "        [ 69,  85, 111],\n",
              "        ...,\n",
              "        [ 78,  88, 113],\n",
              "        [ 66,  77,  99],\n",
              "        [ 67,  78,  98]]], dtype=uint8)"
            ]
          },
          "metadata": {
            "tags": []
          },
          "execution_count": 10
        }
      ]
    },
    {
      "cell_type": "code",
      "metadata": {
        "colab": {
          "base_uri": "https://localhost:8080/"
        },
        "id": "0Pd_lgwNTbpZ",
        "outputId": "83175d7d-78f5-4954-f26c-4930587b8291"
      },
      "source": [
        "clr_img.shape"
      ],
      "execution_count": 11,
      "outputs": [
        {
          "output_type": "execute_result",
          "data": {
            "text/plain": [
              "(743, 1344, 3)"
            ]
          },
          "metadata": {
            "tags": []
          },
          "execution_count": 11
        }
      ]
    },
    {
      "cell_type": "code",
      "metadata": {
        "colab": {
          "base_uri": "https://localhost:8080/"
        },
        "id": "l9BXMOFOTpA6",
        "outputId": "dcc81980-9624-427f-bde4-ada6d347263b"
      },
      "source": [
        "clr_img.dtype"
      ],
      "execution_count": 12,
      "outputs": [
        {
          "output_type": "execute_result",
          "data": {
            "text/plain": [
              "dtype('uint8')"
            ]
          },
          "metadata": {
            "tags": []
          },
          "execution_count": 12
        }
      ]
    },
    {
      "cell_type": "code",
      "metadata": {
        "colab": {
          "base_uri": "https://localhost:8080/"
        },
        "id": "6YBDWVSLT0NW",
        "outputId": "f9fc2ef1-888f-41e4-9322-aa317ce8e473"
      },
      "source": [
        "2**8\n",
        "\n",
        "# 0 - 255 \n",
        "# [0-255],[0-255],[0-255]"
      ],
      "execution_count": 13,
      "outputs": [
        {
          "output_type": "execute_result",
          "data": {
            "text/plain": [
              "256"
            ]
          },
          "metadata": {
            "tags": []
          },
          "execution_count": 13
        }
      ]
    },
    {
      "cell_type": "code",
      "metadata": {
        "id": "-2fw8hrRUAus"
      },
      "source": [
        "from tensorflow import keras"
      ],
      "execution_count": 14,
      "outputs": []
    },
    {
      "cell_type": "code",
      "metadata": {
        "colab": {
          "base_uri": "https://localhost:8080/"
        },
        "id": "-Rq5FJxNZFwl",
        "outputId": "2c2cccb0-9b9b-40bd-b568-dd05efac3600"
      },
      "source": [
        "(x_train, y_train), (x_test, y_test) = keras.datasets.mnist.load_data()"
      ],
      "execution_count": 15,
      "outputs": [
        {
          "output_type": "stream",
          "text": [
            "Downloading data from https://storage.googleapis.com/tensorflow/tf-keras-datasets/mnist.npz\n",
            "11493376/11490434 [==============================] - 0s 0us/step\n"
          ],
          "name": "stdout"
        }
      ]
    },
    {
      "cell_type": "code",
      "metadata": {
        "colab": {
          "base_uri": "https://localhost:8080/"
        },
        "id": "7BgPQh_HaQpK",
        "outputId": "a36491f7-ea9c-4ba9-d897-0c35e1679e13"
      },
      "source": [
        "x_train.shape"
      ],
      "execution_count": 16,
      "outputs": [
        {
          "output_type": "execute_result",
          "data": {
            "text/plain": [
              "(60000, 28, 28)"
            ]
          },
          "metadata": {
            "tags": []
          },
          "execution_count": 16
        }
      ]
    },
    {
      "cell_type": "code",
      "metadata": {
        "colab": {
          "base_uri": "https://localhost:8080/"
        },
        "id": "lCRSCWaZaaAY",
        "outputId": "4788864a-f9f5-4f23-c56b-b992d6f44f09"
      },
      "source": [
        "x_test.shape"
      ],
      "execution_count": 17,
      "outputs": [
        {
          "output_type": "execute_result",
          "data": {
            "text/plain": [
              "(10000, 28, 28)"
            ]
          },
          "metadata": {
            "tags": []
          },
          "execution_count": 17
        }
      ]
    },
    {
      "cell_type": "code",
      "metadata": {
        "colab": {
          "base_uri": "https://localhost:8080/",
          "height": 281
        },
        "id": "UC5QU181ahSi",
        "outputId": "d7cb331a-b817-4d22-d7fc-48097b7ee582"
      },
      "source": [
        "# Displaying Images\n",
        "import random\n",
        "import matplotlib.pyplot as plt\n",
        "i = random.randint(1,60000)\n",
        "plt.imshow(x_train[i],cmap='gray')\n",
        "plt.title(f'Output:{y_train[i]}')\n",
        "plt.show()"
      ],
      "execution_count": 18,
      "outputs": [
        {
          "output_type": "display_data",
          "data": {
            "image/png": "[encoded data removed]",
            "text/plain": [
              "<Figure size 432x288 with 1 Axes>"
            ]
          },
          "metadata": {
            "tags": [],
            "needs_background": "light"
          }
        }
      ]
    },
    {
      "cell_type": "code",
      "metadata": {
        "id": "p2VawzJifXt9"
      },
      "source": [
        "x_train = x_train.reshape(x_train.shape[0], 28, 28, 1)\n",
        "x_test = x_test.reshape(x_test.shape[0], 28, 28, 1)\n",
        "\n",
        "x_train = x_train.astype('float32')\n",
        "x_test = x_test.astype('float32')"
      ],
      "execution_count": 19,
      "outputs": []
    },
    {
      "cell_type": "code",
      "metadata": {
        "id": "hQdO6EB5axJu"
      },
      "source": [
        "# Normalization : Scales down to one specific range (0-1)\n",
        "x_train = x_train/255\n",
        "x_test = x_test/255"
      ],
      "execution_count": 20,
      "outputs": []
    },
    {
      "cell_type": "code",
      "metadata": {
        "id": "Ro-eNgVXbig0"
      },
      "source": [
        "# 1. CNN Architecture\n",
        "# 2. Compile the model\n",
        "# 3. Fitting the model(Training)\n",
        "# 4. Evaluate"
      ],
      "execution_count": 21,
      "outputs": []
    },
    {
      "cell_type": "code",
      "metadata": {
        "colab": {
          "base_uri": "https://localhost:8080/"
        },
        "id": "xvNOjgxLfH1S",
        "outputId": "839c40e8-4da1-4993-f0c1-b0bdcb06b3a4"
      },
      "source": [
        "y_train"
      ],
      "execution_count": 22,
      "outputs": [
        {
          "output_type": "execute_result",
          "data": {
            "text/plain": [
              "array([5, 0, 4, ..., 5, 6, 8], dtype=uint8)"
            ]
          },
          "metadata": {
            "tags": []
          },
          "execution_count": 22
        }
      ]
    },
    {
      "cell_type": "code",
      "metadata": {
        "id": "8euN9w0wbt20"
      },
      "source": [
        "from keras.layers import Conv2D\n",
        "from keras.layers import MaxPooling2D\n",
        "from keras.layers import Dense\n",
        "from keras.layers import Flatten\n",
        "from keras.layers import Dropout"
      ],
      "execution_count": 23,
      "outputs": []
    },
    {
      "cell_type": "code",
      "metadata": {
        "id": "wB7FNimscHIr"
      },
      "source": [
        "model = keras.Sequential()\n",
        "model.add(Conv2D(32,(5,5),input_shape=(28,28,1),activation='relu'))\n",
        "model.add(MaxPooling2D(2,2))\n",
        "model.add(Conv2D(64,(5,5),activation='relu'))\n",
        "model.add(MaxPooling2D(2,2))\n",
        "model.add(Flatten())\n",
        "model.add(Dense(500,activation='relu'))\n",
        "model.add(Dropout(0.2))\n",
        "model.add(Dense(10,activation='softmax'))"
      ],
      "execution_count": 24,
      "outputs": []
    },
    {
      "cell_type": "code",
      "metadata": {
        "colab": {
          "base_uri": "https://localhost:8080/"
        },
        "id": "LjwwC-arddRD",
        "outputId": "a2cd62ca-694e-4ff3-b011-76ed9067f0ab"
      },
      "source": [
        "model.summary()"
      ],
      "execution_count": 25,
      "outputs": [
        {
          "output_type": "stream",
          "text": [
            "Model: \"sequential\"\n",
            "_________________________________________________________________\n",
            "Layer (type)                 Output Shape              Param #   \n",
            "=================================================================\n",
            "conv2d (Conv2D)              (None, 24, 24, 32)        832       \n",
            "_________________________________________________________________\n",
            "max_pooling2d (MaxPooling2D) (None, 12, 12, 32)        0         \n",
            "_________________________________________________________________\n",
            "conv2d_1 (Conv2D)            (None, 8, 8, 64)          51264     \n",
            "_________________________________________________________________\n",
            "max_pooling2d_1 (MaxPooling2 (None, 4, 4, 64)          0         \n",
            "_________________________________________________________________\n",
            "flatten (Flatten)            (None, 1024)              0         \n",
            "_________________________________________________________________\n",
            "dense (Dense)                (None, 500)               512500    \n",
            "_________________________________________________________________\n",
            "dropout (Dropout)            (None, 500)               0         \n",
            "_________________________________________________________________\n",
            "dense_1 (Dense)              (None, 10)                5010      \n",
            "=================================================================\n",
            "Total params: 569,606\n",
            "Trainable params: 569,606\n",
            "Non-trainable params: 0\n",
            "_________________________________________________________________\n"
          ],
          "name": "stdout"
        }
      ]
    },
    {
      "cell_type": "code",
      "metadata": {
        "id": "x287Z_0_duX0"
      },
      "source": [
        "model.compile(loss='sparse_categorical_crossentropy',optimizer='Adam',metrics=['accuracy'])"
      ],
      "execution_count": 26,
      "outputs": []
    },
    {
      "cell_type": "code",
      "metadata": {
        "colab": {
          "base_uri": "https://localhost:8080/"
        },
        "id": "EEKCwNLKenbK",
        "outputId": "c53f5475-982f-4ffa-fe1e-50733a8b497b"
      },
      "source": [
        "history = model.fit(x_train,y_train,epochs=5,validation_split=0.1)"
      ],
      "execution_count": 27,
      "outputs": [
        {
          "output_type": "stream",
          "text": [
            "Epoch 1/10\n",
            "1688/1688 [==============================] - 40s 6ms/step - loss: 0.2710 - accuracy: 0.9124 - val_loss: 0.0531 - val_accuracy: 0.9842\n",
            "Epoch 2/10\n",
            "1688/1688 [==============================] - 10s 6ms/step - loss: 0.0408 - accuracy: 0.9874 - val_loss: 0.0321 - val_accuracy: 0.9897\n",
            "Epoch 3/10\n",
            "1688/1688 [==============================] - 10s 6ms/step - loss: 0.0255 - accuracy: 0.9915 - val_loss: 0.0342 - val_accuracy: 0.9890\n",
            "Epoch 4/10\n",
            "1688/1688 [==============================] - 10s 6ms/step - loss: 0.0194 - accuracy: 0.9941 - val_loss: 0.0296 - val_accuracy: 0.9923\n",
            "Epoch 5/10\n",
            "1688/1688 [==============================] - 10s 6ms/step - loss: 0.0157 - accuracy: 0.9951 - val_loss: 0.0331 - val_accuracy: 0.9923\n",
            "Epoch 6/10\n",
            "1688/1688 [==============================] - 10s 6ms/step - loss: 0.0126 - accuracy: 0.9955 - val_loss: 0.0294 - val_accuracy: 0.9923\n",
            "Epoch 7/10\n",
            "1688/1688 [==============================] - 10s 6ms/step - loss: 0.0086 - accuracy: 0.9972 - val_loss: 0.0354 - val_accuracy: 0.9907\n",
            "Epoch 8/10\n",
            "1688/1688 [==============================] - 10s 6ms/step - loss: 0.0092 - accuracy: 0.9969 - val_loss: 0.0361 - val_accuracy: 0.9913\n",
            "Epoch 9/10\n",
            "1688/1688 [==============================] - 10s 6ms/step - loss: 0.0086 - accuracy: 0.9975 - val_loss: 0.0417 - val_accuracy: 0.9907\n",
            "Epoch 10/10\n",
            "1688/1688 [==============================] - 10s 6ms/step - loss: 0.0060 - accuracy: 0.9983 - val_loss: 0.0382 - val_accuracy: 0.9927\n"
          ],
          "name": "stdout"
        }
      ]
    },
    {
      "cell_type": "code",
      "metadata": {
        "colab": {
          "base_uri": "https://localhost:8080/",
          "height": 283
        },
        "id": "Q396zQ93e34w",
        "outputId": "c19a2778-5636-438a-c0eb-266a59711a52"
      },
      "source": [
        "plt.plot(history.history['loss'])\n",
        "plt.plot(history.history['val_loss'])"
      ],
      "execution_count": 29,
      "outputs": [
        {
          "output_type": "execute_result",
          "data": {
            "text/plain": [
              "[<matplotlib.lines.Line2D at 0x7f12100bd690>]"
            ]
          },
          "metadata": {
            "tags": []
          },
          "execution_count": 29
        },
        {
          "output_type": "display_data",
          "data": {
            "image/png": "[encoded data removed]",
            "text/plain": [
              "<Figure size 432x288 with 1 Axes>"
            ]
          },
          "metadata": {
            "tags": [],
            "needs_background": "light"
          }
        }
      ]
    },
    {
      "cell_type": "code",
      "metadata": {
        "colab": {
          "base_uri": "https://localhost:8080/"
        },
        "id": "GuKDbKqxgUM3",
        "outputId": "e4b72f5d-6206-40fc-d4a8-4bf418d3709d"
      },
      "source": [
        "# Evaluation\n",
        "score =  model.evaluate(x_test,y_test)"
      ],
      "execution_count": 30,
      "outputs": [
        {
          "output_type": "stream",
          "text": [
            "313/313 [==============================] - 1s 3ms/step - loss: 0.0270 - accuracy: 0.9917\n"
          ],
          "name": "stdout"
        }
      ]
    },
    {
      "cell_type": "code",
      "metadata": {
        "colab": {
          "base_uri": "https://localhost:8080/"
        },
        "id": "2vHxu-Mbgnq4",
        "outputId": "215b1b39-b0ce-4295-ccf4-a30d4763babe"
      },
      "source": [
        "print(score)"
      ],
      "execution_count": 31,
      "outputs": [
        {
          "output_type": "stream",
          "text": [
            "[0.027032392099499702, 0.9916999936103821]\n"
          ],
          "name": "stdout"
        }
      ]
    },
    {
      "cell_type": "code",
      "metadata": {
        "colab": {
          "base_uri": "https://localhost:8080/",
          "height": 464
        },
        "id": "KgL9pRA6gp02",
        "outputId": "9c57925c-cdc7-47e8-9c2f-d07366743eda"
      },
      "source": [
        "predictions = model.predict_classes(x_test)\n",
        "\n",
        "predictions = list(predictions)\n",
        "actuals = list(y_test)\n",
        "\n",
        "import pandas as pd\n",
        "sub = pd.DataFrame({'Actual':actuals,'Predicted':predictions})\n",
        "sub"
      ],
      "execution_count": 32,
      "outputs": [
        {
          "output_type": "stream",
          "text": [
            "/usr/local/lib/python3.7/dist-packages/tensorflow/python/keras/engine/sequential.py:450: UserWarning: `model.predict_classes()` is deprecated and will be removed after 2021-01-01. Please use instead:* `np.argmax(model.predict(x), axis=-1)`,   if your model does multi-class classification   (e.g. if it uses a `softmax` last-layer activation).* `(model.predict(x) > 0.5).astype(\"int32\")`,   if your model does binary classification   (e.g. if it uses a `sigmoid` last-layer activation).\n",
            "  warnings.warn('`model.predict_classes()` is deprecated and '\n"
          ],
          "name": "stderr"
        },
        {
          "output_type": "execute_result",
          "data": {
            "text/html": [
              "<div>\n",
              "<style scoped>\n",
              "    .dataframe tbody tr th:only-of-type {\n",
              "        vertical-align: middle;\n",
              "    }\n",
              "\n",
              "    .dataframe tbody tr th {\n",
              "        vertical-align: top;\n",
              "    }\n",
              "\n",
              "    .dataframe thead th {\n",
              "        text-align: right;\n",
              "    }\n",
              "</style>\n",
              "<table border=\"1\" class=\"dataframe\">\n",
              "  <thead>\n",
              "    <tr style=\"text-align: right;\">\n",
              "      <th></th>\n",
              "      <th>Actual</th>\n",
              "      <th>Predicted</th>\n",
              "    </tr>\n",
              "  </thead>\n",
              "  <tbody>\n",
              "    <tr>\n",
              "      <th>0</th>\n",
              "      <td>7</td>\n",
              "      <td>7</td>\n",
              "    </tr>\n",
              "    <tr>\n",
              "      <th>1</th>\n",
              "      <td>2</td>\n",
              "      <td>2</td>\n",
              "    </tr>\n",
              "    <tr>\n",
              "      <th>2</th>\n",
              "      <td>1</td>\n",
              "      <td>1</td>\n",
              "    </tr>\n",
              "    <tr>\n",
              "      <th>3</th>\n",
              "      <td>0</td>\n",
              "      <td>0</td>\n",
              "    </tr>\n",
              "    <tr>\n",
              "      <th>4</th>\n",
              "      <td>4</td>\n",
              "      <td>4</td>\n",
              "    </tr>\n",
              "    <tr>\n",
              "      <th>...</th>\n",
              "      <td>...</td>\n",
              "      <td>...</td>\n",
              "    </tr>\n",
              "    <tr>\n",
              "      <th>9995</th>\n",
              "      <td>2</td>\n",
              "      <td>2</td>\n",
              "    </tr>\n",
              "    <tr>\n",
              "      <th>9996</th>\n",
              "      <td>3</td>\n",
              "      <td>3</td>\n",
              "    </tr>\n",
              "    <tr>\n",
              "      <th>9997</th>\n",
              "      <td>4</td>\n",
              "      <td>4</td>\n",
              "    </tr>\n",
              "    <tr>\n",
              "      <th>9998</th>\n",
              "      <td>5</td>\n",
              "      <td>5</td>\n",
              "    </tr>\n",
              "    <tr>\n",
              "      <th>9999</th>\n",
              "      <td>6</td>\n",
              "      <td>6</td>\n",
              "    </tr>\n",
              "  </tbody>\n",
              "</table>\n",
              "<p>10000 rows × 2 columns</p>\n",
              "</div>"
            ],
            "text/plain": [
              "      Actual  Predicted\n",
              "0          7          7\n",
              "1          2          2\n",
              "2          1          1\n",
              "3          0          0\n",
              "4          4          4\n",
              "...      ...        ...\n",
              "9995       2          2\n",
              "9996       3          3\n",
              "9997       4          4\n",
              "9998       5          5\n",
              "9999       6          6\n",
              "\n",
              "[10000 rows x 2 columns]"
            ]
          },
          "metadata": {
            "tags": []
          },
          "execution_count": 32
        }
      ]
    },
    {
      "cell_type": "code",
      "metadata": {
        "colab": {
          "base_uri": "https://localhost:8080/"
        },
        "id": "VCc_BPvlhHkI",
        "outputId": "0bd7f6e7-2820-4e56-a7c6-7a3ec0ee6f23"
      },
      "source": [
        "from sklearn.metrics import confusion_matrix\n",
        "confusion_matrix(predictions,y_test)"
      ],
      "execution_count": 35,
      "outputs": [
        {
          "output_type": "execute_result",
          "data": {
            "text/plain": [
              "array([[ 977,    0,    0,    0,    0,    1,    3,    0,    2,    0],\n",
              "       [   0, 1133,    1,    0,    0,    0,    2,    3,    0,    0],\n",
              "       [   0,    0, 1024,    1,    0,    0,    3,    1,    1,    0],\n",
              "       [   0,    1,    2,  993,    0,    2,    0,    0,    1,    0],\n",
              "       [   1,    0,    1,    0,  979,    0,    2,    1,    2,    4],\n",
              "       [   0,    0,    0,   13,    0,  885,    1,    0,    1,    3],\n",
              "       [   1,    0,    0,    0,    0,    1,  947,    0,    2,    0],\n",
              "       [   0,    0,    4,    2,    0,    0,    0, 1019,    0,    4],\n",
              "       [   0,    0,    0,    1,    0,    2,    0,    1,  963,    1],\n",
              "       [   1,    1,    0,    0,    3,    1,    0,    3,    2,  997]])"
            ]
          },
          "metadata": {
            "tags": []
          },
          "execution_count": 35
        }
      ]
    },
    {
      "cell_type": "code",
      "metadata": {
        "id": "KqTdlGkshWhf"
      },
      "source": [
        "model.save('digit_cnn.hdf5')\n",
        "# Weights which are trained"
      ],
      "execution_count": 36,
      "outputs": []
    },
    {
      "cell_type": "code",
      "metadata": {
        "colab": {
          "base_uri": "https://localhost:8080/"
        },
        "id": "RYmGrzR3im7-",
        "outputId": "413cd3ea-d78c-410a-d773-3489f198d52f"
      },
      "source": [
        "!pip install streamlit --quiet\n",
        "!pip install pyngrok==4.1.1 --quiet\n",
        "!pip install streamlit-drawable-canvas --quiet\n",
        "from pyngrok import ngrok"
      ],
      "execution_count": 37,
      "outputs": [
        {
          "output_type": "stream",
          "text": [
            "\u001b[K     |████████████████████████████████| 8.2MB 5.8MB/s \n",
            "\u001b[K     |████████████████████████████████| 163kB 37.9MB/s \n",
            "\u001b[K     |████████████████████████████████| 81kB 7.4MB/s \n",
            "\u001b[K     |████████████████████████████████| 112kB 42.9MB/s \n",
            "\u001b[K     |████████████████████████████████| 4.2MB 38.0MB/s \n",
            "\u001b[K     |████████████████████████████████| 71kB 8.4MB/s \n",
            "\u001b[K     |████████████████████████████████| 122kB 44.2MB/s \n",
            "\u001b[?25h  Building wheel for blinker (setup.py) ... \u001b[?25l\u001b[?25hdone\n",
            "\u001b[31mERROR: google-colab 1.0.0 has requirement ipykernel~=4.10, but you'll have ipykernel 5.5.3 which is incompatible.\u001b[0m\n",
            "  Building wheel for pyngrok (setup.py) ... \u001b[?25l\u001b[?25hdone\n",
            "\u001b[K     |████████████████████████████████| 1.3MB 5.4MB/s \n",
            "\u001b[?25h"
          ],
          "name": "stdout"
        }
      ]
    },
    {
      "cell_type": "code",
      "metadata": {
        "colab": {
          "base_uri": "https://localhost:8080/"
        },
        "id": "ixnUBspqixNN",
        "outputId": "1099b351-7b8c-49fc-f113-dbd2e73f1440"
      },
      "source": [
        "%%writefile app.py\n",
        "import streamlit as st\n",
        "import numpy as np\n",
        "from streamlit_drawable_canvas import st_canvas\n",
        "from tensorflow import keras\n",
        "import cv2\n",
        "model = keras.models.load_model('digit_cnn.hdf5',compile=False)\n",
        "\n",
        "SIZE = 225\n",
        "\n",
        "col1, col2 = st.beta_columns(2)\n",
        "\n",
        "with col1:\n",
        "  st.write('Original Image')\n",
        "  canvas_result = st_canvas(fill_color='#000000',stroke_width=20,stroke_color='#fcba03',\n",
        "      background_color='#000000',width=SIZE,height=SIZE,drawing_mode=\"freedraw\")\n",
        "\n",
        "with col2:\n",
        "  if canvas_result.image_data is not None:\n",
        "      img = cv2.resize(canvas_result.image_data.astype('uint8'), (28, 28))\n",
        "      rescaled = cv2.resize(img, (SIZE, SIZE))\n",
        "      st.write('Rescaled Image')\n",
        "      st.image(rescaled)\n",
        "\n",
        "if st.button('Predict'):\n",
        "    test_x = cv2.cvtColor(img, cv2.COLOR_BGR2GRAY)\n",
        "    test_x.reshape(1,28,28,1)\n",
        "    val = model.predict(test_x)\n",
        "    st.title(f'Result: {np.argmax(val[0])}')\n",
        "    st.bar_chart(val[0])"
      ],
      "execution_count": 40,
      "outputs": [
        {
          "output_type": "stream",
          "text": [
            "Overwriting app.py\n"
          ],
          "name": "stdout"
        }
      ]
    },
    {
      "cell_type": "code",
      "metadata": {
        "colab": {
          "base_uri": "https://localhost:8080/"
        },
        "id": "Ls47tKnBjAFy",
        "outputId": "90708f4a-74d5-45e2-e7ea-a88f2fc34fbc"
      },
      "source": [
        "!nohup streamlit run app.py &\n",
        "\n",
        "public_url = ngrok.connect(port='8501')\n",
        "print(public_url)"
      ],
      "execution_count": 39,
      "outputs": [
        {
          "output_type": "stream",
          "text": [
            "nohup: appending output to 'nohup.out'\n",
            "http://58fd6611f73c.ngrok.io\n"
          ],
          "name": "stdout"
        }
      ]
    },
    {
      "cell_type": "code",
      "metadata": {
        "id": "3_4sA1JAjDIb"
      },
      "source": [
        ""
      ],
      "execution_count": null,
      "outputs": []
    }
  ]
}